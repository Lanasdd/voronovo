{
 "cells": [
  {
   "cell_type": "code",
   "execution_count": 61,
   "id": "cdd5bbf9",
   "metadata": {
    "id": "cdd5bbf9",
    "ExecuteTime": {
     "end_time": "2024-05-04T04:41:58.353549441Z",
     "start_time": "2024-05-04T04:41:58.274899198Z"
    }
   },
   "outputs": [],
   "source": [
    "access_token = 'vk1.a.A_efya4Zfs_KNyXHjQmCb92lJrVAhq7F1Fe7kL_kVDVYU1x50_5DAEOHvJuI5faNCVK4vUAcLoBuZNgHfpX3j80ngKTlY_xzR3cDhRCcQ0SlhxPt9T5Q1zR3XG9qWfVwkonXbS_oICCzgUjXln7CyOZ3F7Y0lnfQRP7u9GifMd3D3gZyghJQ94Mf4A1dIly5Te8I8DXI3OrzzVKQEeQC-A'"
   ]
  },
  {
   "cell_type": "code",
   "execution_count": 62,
   "id": "99e684b2",
   "metadata": {
    "id": "99e684b2",
    "ExecuteTime": {
     "end_time": "2024-05-04T04:42:06.942302490Z",
     "start_time": "2024-05-04T04:42:00.385662640Z"
    }
   },
   "outputs": [
    {
     "name": "stdout",
     "output_type": "stream",
     "text": [
      "Requirement already satisfied: vk_api in ./venv/lib/python3.10/site-packages (11.9.9)\r\n",
      "Requirement already satisfied: requests in ./venv/lib/python3.10/site-packages (from vk_api) (2.31.0)\r\n",
      "Requirement already satisfied: certifi>=2017.4.17 in ./venv/lib/python3.10/site-packages (from requests->vk_api) (2024.2.2)\r\n",
      "Requirement already satisfied: idna<4,>=2.5 in ./venv/lib/python3.10/site-packages (from requests->vk_api) (3.7)\r\n",
      "Requirement already satisfied: urllib3<3,>=1.21.1 in ./venv/lib/python3.10/site-packages (from requests->vk_api) (2.2.1)\r\n",
      "Requirement already satisfied: charset-normalizer<4,>=2 in ./venv/lib/python3.10/site-packages (from requests->vk_api) (3.3.2)\r\n",
      "\r\n",
      "\u001B[1m[\u001B[0m\u001B[34;49mnotice\u001B[0m\u001B[1;39;49m]\u001B[0m\u001B[39;49m A new release of pip available: \u001B[0m\u001B[31;49m22.3.1\u001B[0m\u001B[39;49m -> \u001B[0m\u001B[32;49m24.0\u001B[0m\r\n",
      "\u001B[1m[\u001B[0m\u001B[34;49mnotice\u001B[0m\u001B[1;39;49m]\u001B[0m\u001B[39;49m To update, run: \u001B[0m\u001B[32;49mpip install --upgrade pip\u001B[0m\r\n",
      "Note: you may need to restart the kernel to use updated packages.\n"
     ]
    }
   ],
   "source": [
    "pip install vk_api"
   ]
  },
  {
   "cell_type": "code",
   "execution_count": 63,
   "id": "7ca970c7",
   "metadata": {
    "id": "7ca970c7",
    "ExecuteTime": {
     "end_time": "2024-05-04T04:42:09.811735555Z",
     "start_time": "2024-05-04T04:42:09.767394776Z"
    }
   },
   "outputs": [],
   "source": [
    "import vk_api\n",
    "vk_session = vk_api.VkApi(token=access_token) # Создали сеанс vk_session с вашим токеном доступа\n",
    "vk = vk_session.get_api() # Получили экземпляр api vk"
   ]
  },
  {
   "cell_type": "code",
   "execution_count": 66,
   "id": "1627d7d0",
   "metadata": {
    "id": "1627d7d0",
    "ExecuteTime": {
     "end_time": "2024-05-04T04:42:24.048761995Z",
     "start_time": "2024-05-04T04:42:23.959445121Z"
    }
   },
   "outputs": [
    {
     "data": {
      "text/plain": "[{'id': 482832421,\n  'bdate': '15.10.2005',\n  'country': {'id': 1, 'title': 'Россия'},\n  'about': '',\n  'career': [],\n  'first_name': 'Света',\n  'last_name': 'Яковлева',\n  'can_access_closed': True,\n  'is_closed': False}]"
     },
     "execution_count": 66,
     "metadata": {},
     "output_type": "execute_result"
    }
   ],
   "source": [
    "# https://dev.vk.com/ru/method/users.get\n",
    "vk.users.get(user_id=482832421, fields = 'country,id,about,career,bdate') # получаем информацию о себе"
   ]
  },
  {
   "cell_type": "code",
   "execution_count": 67,
   "id": "f860ede3",
   "metadata": {
    "id": "f860ede3",
    "ExecuteTime": {
     "end_time": "2024-05-04T04:42:50.895070195Z",
     "start_time": "2024-05-04T04:42:50.742197781Z"
    }
   },
   "outputs": [],
   "source": [
    "import json\n",
    " \n",
    "data = vk.users.get(user_id=482832421, fields = 'country,id,about,career,bdate')\n",
    " \n",
    "with open('data.json', 'w') as file:\n",
    "    json.dump(data, file) # записываем информацию в json"
   ]
  },
  {
   "cell_type": "code",
   "execution_count": 77,
   "id": "cc90025d",
   "metadata": {
    "id": "cc90025d",
    "ExecuteTime": {
     "end_time": "2024-05-04T05:05:09.495386331Z",
     "start_time": "2024-05-04T05:05:06.083786523Z"
    }
   },
   "outputs": [],
   "source": [
    "users = vk.users.search(city_id = 22,  fields='city, bdate, sex', count = 1000)\n",
    "result = users['items']"
   ]
  },
  {
   "cell_type": "code",
   "execution_count": 81,
   "outputs": [],
   "source": [
    "import csv\n",
    "\n",
    "fieldnames = ['id', 'city', 'bdate','sex','track_code','first_name', 'last_name', 'can_access_closed', 'is_closed']\n",
    "\n",
    "with open('data.csv', 'w') as csvfile: \n",
    "    writer = csv.DictWriter(csvfile, fieldnames = fieldnames) \n",
    "    writer.writeheader() \n",
    "    for user in users['items']:\n",
    "        if 'bdate' in user and len(user['bdate']) < 6:\n",
    "            user['bdate'] = ''\n",
    "        writer.writerow(user)\n",
    "        "
   ],
   "metadata": {
    "collapsed": false,
    "ExecuteTime": {
     "end_time": "2024-05-04T05:22:45.307748089Z",
     "start_time": "2024-05-04T05:22:45.157922240Z"
    }
   },
   "id": "340c15326a6373d3"
  },
  {
   "cell_type": "code",
   "execution_count": 30,
   "id": "769efcfe",
   "metadata": {
    "id": "769efcfe",
    "ExecuteTime": {
     "end_time": "2024-05-03T17:03:54.568764461Z",
     "start_time": "2024-05-03T17:03:54.408336601Z"
    }
   },
   "outputs": [],
   "source": []
  }
 ],
 "metadata": {
  "colab": {
   "provenance": []
  },
  "kernelspec": {
   "display_name": "Python 3 (ipykernel)",
   "language": "python",
   "name": "python3"
  },
  "language_info": {
   "codemirror_mode": {
    "name": "ipython",
    "version": 3
   },
   "file_extension": ".py",
   "mimetype": "text/x-python",
   "name": "python",
   "nbconvert_exporter": "python",
   "pygments_lexer": "ipython3",
   "version": "3.9.12"
  }
 },
 "nbformat": 4,
 "nbformat_minor": 5
}
